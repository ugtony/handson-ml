{
 "cells": [
  {
   "cell_type": "code",
   "execution_count": 1,
   "metadata": {},
   "outputs": [
    {
     "name": "stdout",
     "output_type": "stream",
     "text": [
      "output: 2\n",
      "output: 2\n",
      "output: 2\n"
     ]
    }
   ],
   "source": [
    "import tensorflow as tf\n",
    "\n",
    "x = tf.placeholder(tf.int32, shape=[], name='x')\n",
    "y = tf.Variable(2, dtype=tf.int32)\n",
    "\n",
    "assign_op = tf.assign(y, y + 1)\n",
    "out = x * y\n",
    "\n",
    "with tf.Session() as sess:\n",
    "  sess.run(tf.global_variables_initializer())\n",
    "  \n",
    "  for i in range(3):\n",
    "    print('output:', sess.run(out, feed_dict={x: 1}))  # 2, 2, 2 since assign_op is not used here"
   ]
  },
  {
   "cell_type": "code",
   "execution_count": 2,
   "metadata": {},
   "outputs": [
    {
     "name": "stdout",
     "output_type": "stream",
     "text": [
      "output: 2\n",
      "output: 4\n",
      "output: 5\n"
     ]
    }
   ],
   "source": [
    "with tf.Session() as sess:\n",
    "  sess.run(tf.global_variables_initializer())\n",
    "      \n",
    "  for i in range(3):\n",
    "    out_value, _ = sess.run([out, assign_op], feed_dict={x: 1})\n",
    "    print('output:', out_value) # 2, 3, 4 or 3, 4, 5? do out=x*y or y=y+1 first? "
   ]
  },
  {
   "cell_type": "code",
   "execution_count": 3,
   "metadata": {},
   "outputs": [
    {
     "name": "stdout",
     "output_type": "stream",
     "text": [
      "output: 3\n",
      "output: 4\n",
      "output: 5\n"
     ]
    }
   ],
   "source": [
    "x = tf.placeholder(tf.int32, shape=[], name='x')\n",
    "y = tf.Variable(2, dtype=tf.int32)\n",
    "\n",
    "assign_op = tf.assign(y, y + 1)\n",
    "with tf.control_dependencies([assign_op]):\n",
    "    # All the operations happening here will only happens after the \"assign_op\" has been computed first\n",
    "    out = x * y\n",
    "\n",
    "with tf.Session() as sess:\n",
    "  sess.run(tf.global_variables_initializer())\n",
    "  \n",
    "  for i in range(3):\n",
    "    print('output:', sess.run(out, feed_dict={x: 1})) # 3, 4, 5  "
   ]
  },
  {
   "cell_type": "code",
   "execution_count": 4,
   "metadata": {},
   "outputs": [
    {
     "name": "stdout",
     "output_type": "stream",
     "text": [
      "output: 2\n",
      "output: 3\n",
      "output: 4\n"
     ]
    }
   ],
   "source": [
    "x = tf.placeholder(tf.int32, shape=[], name='x')\n",
    "y = tf.Variable(2, dtype=tf.int32)\n",
    "\n",
    "out = x * y\n",
    "with tf.control_dependencies([out]):\n",
    "    # All the operations happening here will only happens after the \"out\" has been computed first\n",
    "    assign_op = tf.assign(y, y + 1)\n",
    "\n",
    "with tf.Session() as sess:\n",
    "  sess.run(tf.global_variables_initializer())\n",
    "  \n",
    "  for i in range(3):\n",
    "    out_value, _ = sess.run([out, assign_op], feed_dict={x: 1})\n",
    "    print('output:', out_value) # 2, 3, 4  "
   ]
  }
 ],
 "metadata": {
  "kernelspec": {
   "display_name": "Python 3",
   "language": "python",
   "name": "python3"
  },
  "language_info": {
   "codemirror_mode": {
    "name": "ipython",
    "version": 3
   },
   "file_extension": ".py",
   "mimetype": "text/x-python",
   "name": "python",
   "nbconvert_exporter": "python",
   "pygments_lexer": "ipython3",
   "version": "3.6.3"
  }
 },
 "nbformat": 4,
 "nbformat_minor": 2
}
